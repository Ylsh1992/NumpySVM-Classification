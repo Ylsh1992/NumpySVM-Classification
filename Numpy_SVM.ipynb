{
 "cells": [
  {
   "cell_type": "markdown",
   "metadata": {},
   "source": [
    "# Build Simple SMV Model"
   ]
  },
  {
   "cell_type": "code",
   "execution_count": 117,
   "metadata": {},
   "outputs": [],
   "source": [
    "import numpy as np\n",
    "from matplotlib import pyplot as plt\n",
    "%matplotlib inline"
   ]
  },
  {
   "cell_type": "code",
   "execution_count": 118,
   "metadata": {
    "scrolled": true
   },
   "outputs": [
    {
     "data": {
      "text/plain": [
       "[<matplotlib.lines.Line2D at 0x22464cae0f0>]"
      ]
     },
     "execution_count": 118,
     "metadata": {},
     "output_type": "execute_result"
    },
    {
     "data": {
      "image/png": "[encoded data removed]",
      "text/plain": [
       "<Figure size 432x288 with 1 Axes>"
      ]
     },
     "metadata": {
      "needs_background": "light"
     },
     "output_type": "display_data"
    }
   ],
   "source": [
    "X = np.array([\n",
    "    [-2,4,-1],\n",
    "    [4,1,-1],\n",
    "    [1,6,-1],\n",
    "    [2,4,-1],\n",
    "    [6,2,-1]\n",
    "])\n",
    "\n",
    "y = np.array([-1,-1,1,1,1])\n",
    "\n",
    "for d, sample in enumerate(X):\n",
    "    if d < 2:\n",
    "        plt.scatter(sample[0],sample[1],color='r',s=120,marker='_',linewidths=3)\n",
    "    else :\n",
    "        plt.scatter(sample[0],sample[1],color='b',s=120,marker='+',linewidths=3)\n",
    "        \n",
    "plt.plot([-2,6],[6,0.5])"
   ]
  },
  {
   "cell_type": "code",
   "execution_count": 119,
   "metadata": {},
   "outputs": [],
   "source": [
    "# Hinge loss: max(0,1-y*y_pred)\n",
    "# Objective Function: min(lambd*w^2)+sum(Hinge loss)\n",
    "\n",
    "def svm_gradient_descient(X, y, learning_rate = 0.1, epochs = 2000):\n",
    "    w = np.zeros(len(X[0]))\n",
    "    errors = []\n",
    "    for epoch in range(1,epochs):\n",
    "        error = 0\n",
    "        for i, x in enumerate(X):\n",
    "            if (y[i]*(np.dot(X[i], w))) < 1:\n",
    "#                 misclassified\n",
    "                w = w + learning_rate * ((X[i] * y[i]) + (-2 * (1/epoch) * w))\n",
    "                error = 1\n",
    "            else:\n",
    "#                 correct\n",
    "                w = w + learning_rate * (-2 * (1/epoch) * w)\n",
    "        errors.append(error)\n",
    "        \n",
    "        if epoch % 500 == 0:\n",
    "            print(\"weights: \",w)\n",
    "    plt.plot(errors, '|')\n",
    "    plt.ylim(0.5,1.5)\n",
    "    plt.axes().set_yticklabels([])\n",
    "    plt.xlabel('Epoch')\n",
    "    plt.ylabel('Misclassified')\n",
    "    plt.show()\n",
    "\n",
    "    return w        \n",
    "                "
   ]
  },
  {
   "cell_type": "code",
   "execution_count": 120,
   "metadata": {},
   "outputs": [
    {
     "name": "stdout",
     "output_type": "stream",
     "text": [
      "weights:  [ 1.60875151  2.52004791 10.4849879 ]\n",
      "weights:  [1.19648651 2.16854441 8.16420921]\n",
      "weights:  [ 1.62939488  3.06124743 11.22246675]\n",
      "weights:  [ 1.61356718  3.07971102 11.15860458]\n",
      "weights:  [ 1.46601211  2.82359421 10.16196217]\n",
      "weights:  [4.9797723  8.85767211 9.74527861]\n",
      "weights:  [ 1.73945341  3.38830969 12.09269934]\n",
      "weights:  [ 1.87099598  3.6572693  13.01896242]\n",
      "weights:  [1.16314085 2.27716445 8.09677426]\n",
      "weights:  [ 1.65150141  3.24235768 11.5047173 ]\n",
      "weights:  [1.28357367 2.52318981 8.94458534]\n",
      "weights:  [1.08354994 2.13249343 7.55302723]\n",
      "weights:  [ 1.97322157  3.89162482 13.76216343]\n",
      "weights:  [ 1.89231926  3.7356059  13.20117364]\n",
      "weights:  [ 1.90936786  3.7725907  13.32317487]\n",
      "weights:  [1.00134625 1.97849226 6.98718745]\n",
      "weights:  [1.09806705 2.1713813  7.663729  ]\n",
      "weights:  [1.24629232 2.46638008 8.69997572]\n",
      "weights:  [ 1.45807571  2.88755404 10.18026517]\n"
     ]
    },
    {
     "name": "stderr",
     "output_type": "stream",
     "text": [
      "C:\\Users\\83409\\.conda\\envs\\deepLearning\\lib\\site-packages\\ipykernel_launcher.py:23: MatplotlibDeprecationWarning: Adding an axes using the same arguments as a previous axes currently reuses the earlier instance.  In a future version, a new instance will always be created and returned.  Meanwhile, this warning can be suppressed, and the future behavior ensured, by passing a unique label to each axes instance.\n"
     ]
    },
    {
     "data": {
      "image/png": "[encoded data removed]",
      "text/plain": [
       "<Figure size 432x288 with 1 Axes>"
      ]
     },
     "metadata": {
      "needs_background": "light"
     },
     "output_type": "display_data"
    }
   ],
   "source": [
    "w = svm_gradient_descient(X,y,learning_rate = 1,epochs = 10000)"
   ]
  },
  {
   "cell_type": "code",
   "execution_count": 121,
   "metadata": {},
   "outputs": [
    {
     "data": {
      "text/plain": [
       "<matplotlib.quiver.Quiver at 0x2246660ef98>"
      ]
     },
     "execution_count": 121,
     "metadata": {},
     "output_type": "execute_result"
    },
    {
     "data": {
      "image/png": "[encoded data removed]",
      "text/plain": [
       "<Figure size 432x288 with 1 Axes>"
      ]
     },
     "metadata": {
      "needs_background": "light"
     },
     "output_type": "display_data"
    }
   ],
   "source": [
    "# plot the hyperplane\n",
    "for d, sample in enumerate(X):\n",
    "    if d < 2:\n",
    "        plt.scatter(sample[0],sample[1],color='r',s=120,marker='_',linewidths=3)\n",
    "    else :\n",
    "        plt.scatter(sample[0],sample[1],color='b',s=120,marker='+',linewidths=3)\n",
    "        \n",
    "plt.scatter(2,2, s=120, marker='_',linewidths=3,color = 'gray')\n",
    "plt.scatter(4,3, s=120, marker='+',linewidths=3,color = 'green')\n",
    "\n",
    "x2=[w[0],w[1],-w[1],w[0]]\n",
    "x3=[w[0],w[1],w[1],-w[0]]\n",
    "\n",
    "x2x3 =np.array([x2,x3])\n",
    "X,Y,U,V = zip(*x2x3)\n",
    "ax = plt.gca()\n",
    "ax.quiver(X,Y,U,V,scale=1, color='blue')"
   ]
  },
  {
   "cell_type": "code",
   "execution_count": null,
   "metadata": {},
   "outputs": [],
   "source": []
  }
 ],
 "metadata": {
  "kernelspec": {
   "display_name": "deepLearning-GPU",
   "language": "python",
   "name": "deeplearning"
  },
  "language_info": {
   "codemirror_mode": {
    "name": "ipython",
    "version": 3
   },
   "file_extension": ".py",
   "mimetype": "text/x-python",
   "name": "python",
   "nbconvert_exporter": "python",
   "pygments_lexer": "ipython3",
   "version": "3.7.3"
  }
 },
 "nbformat": 4,
 "nbformat_minor": 2
}
